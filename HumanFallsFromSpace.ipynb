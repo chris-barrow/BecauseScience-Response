{
 "cells": [
  {
   "cell_type": "markdown",
   "metadata": {},
   "source": [
    "# Speed of Falling Human as Function of Altitude\n",
    "## In response to Kyle's \"How to Fall from ANY HEIGHT and Survive\" video\n",
    "\n",
    "Consider a skydiver falling from the \"edge of space\", which we will use as the von Karman line at 100km. We will assume he is falling head first and stays perpendicular to the earth for the entirity of his flight. From this altitude the air density is much less, allowing the skydiver to go well into the supersonic regime. So how does the mach number of the skydiver change as they fall through the atmosphere?\n",
    "\n",
    "This approach will utilize an iteration approach and time-step through the fall. To calculate the height at a point in time after a given time step, $\\Delta t$, the following equation can be used:\n",
    "$$ h_\\text{new} = h_\\text{old} - u \\Delta t $$\n",
    "where $h$ is the height or altitude and $u$ is the velocity of the skydiver at that point in time. To calculate the speed at that time, we can use:\n",
    "$$ u_\\text{new} = u_\\text{old} + F/m $$\n",
    "Where $F$ is the total force on the skydiver and $m$ is the mass of the skydiver. The total force on the skydiver is calculated as:\n",
    "$$ F = mg - F_D $$\n",
    "where $g$ is the acceleration of gravity and $F_D$ is the drag force. The drag force is a bit more involved to calculate and is discussed in the next section.\n",
    "\n",
    "## Calculating Drag\n",
    "If we can approximate the skydiver as an airfoil, then we can calculate the total drag coefficient and thus the drag force on the skydiver.\n",
    "[Drag at Supersonic Speeds](https://en.wikipedia.org/wiki/Supersonic_airfoils#Lift_and_drag):\n",
    "$$ C_D = C_{D, \\text{friction}} + C_{D, \\text{thickness}} + C_{D, \\text{lift}} $$\n",
    "The $C_{D, \\text{thickness}}$ is the coefficient of drag due to the \"thickness\" of the body, in this case referring to the wake drag, $C_{D,w}$. Experimentally, this expression is reduced to:\n",
    "$$ C_D = C_{D, O} + kC_L^2 $$\n",
    "Where $C_L$ is the coefficient of lift and $C_{D, O}=C_{D,f} + C_{D,w}$. If we assume no lift and thus no angle of attack, our overall drag coefficient reduces to:\n",
    "$$ C_D = C_{D,f} + C_{D,w} $$\n",
    "Where $C_{D,f}$ is the traditional drag coefficient due to friction. If we assume that the skydiver can be approximated as a \"flat plate\", then we can use the [following formulation](https://en.wikipedia.org/wiki/Wave_drag) for $C_{D,w}$:\n",
    "$$ C_{D,w} = 4 \\frac{\\alpha^2}{\\sqrt{M^2 - 1}} $$\n",
    "Where $\\alpha$ is the angle of attack and $M$ is the mach number. This formulation is also supported by this [NASA report](https://ntrs.nasa.gov/archive/nasa/casi.ntrs.nasa.gov/19930082018.pdf) on pages 12 and 23. Since we are assuming no angle of attack, this coefficient conveniently drops, leaving the overall drag equal to the friction drag. In reality, there will be some form of wake drag, however this will be ignored for simplicity.\n",
    "\n",
    "We can use the standard form of the drag coefficient that encompases both the frictional drag as well as form/pressure drag. The validity of this equation in the transsonic and supersonic regimes is questionable even under the current assumptions but will be used for simplicity. [This form is given as](https://en.wikipedia.org/wiki/Drag_coefficient):\n",
    "$$ C_D = \\frac{2F_d}{\\rho u^2 A} $$\n",
    "where $F_d$ is the force of drag, $\\rho$ is the density of air calculated below, $u$ is the velocity, and $A$ is the cross-sectional area of the body. For this calculation, we will use the values [given in this article](https://en.wikipedia.org/wiki/Speed_skydiving) for a head-down position:\n",
    "$$ C_D = 0.7,~A = 0.18~\\text{m}^2,~m = 90~\\text{kg} $$\n",
    "It is important to note that the drag coefficient changes as a function of Reynolds number, which will change throughout this flight, but will be kept constant for simplicity.\n",
    "\n",
    "## Calculating Density\n",
    "From this [NASA Atmospheric Model](https://www.grc.nasa.gov/www/k-12/airplane/atmosmet.html), Density of air as a function of altitude:\n",
    "$$\\rho = \\frac{p(h)}{.2869 (T(h) + 273.1)} $$\n",
    "where $\\rho$ is the density of air in kg/m^3, $p$ is the ambient pressure in kPa, $T$ is the temperature in Celcius, and $h$ is the altitude in meters.\n",
    "\n",
    "For h < 11000:\n",
    "$$ p(h) = 101.29 \\left[\\frac{T + 273.1}{288.08}\\right]^{5.256} $$\n",
    "$$ T(h) = 15.04 - 0.00649 h $$\n",
    "\n",
    "For 11000 < h < 25000\n",
    "$$ T(h) = -56.46 $$\n",
    "$$ p(h) = 22.65 e^{1.73 - 0.000157h} $$\n",
    "\n",
    "For h > 25000:\n",
    "$$ T(h) = -131.21 + .00299 h $$\n",
    "$$ p(h) = 2.488 \\left[\\frac{T + 273.1}{216.6}\\right]^{-11.388} $$\n",
    "\n"
   ]
  },
  {
   "cell_type": "code",
   "execution_count": 1,
   "metadata": {
    "scrolled": true
   },
   "outputs": [],
   "source": [
    "import numpy as np\n",
    "import pandas as pd\n",
    "import matplotlib.pyplot as plt\n",
    "\n",
    "# Initialize parameters\n",
    "h = 100000 #height, meters\n",
    "m = 90 #mass of skydiver, kg\n",
    "g = 9.81 #accel. of gravity, m/s^2\n",
    "C_D = 0.7 #Coefficient of drag for skydiver\n",
    "t = 0 #time elapsed, seconds\n",
    "dt = 0.1 #time step to perform calculation in\n",
    "u = 0 #velocity, m/s\n",
    "A = 0.18 # Cross-sectional area, m^2\n",
    "gamma = 1.4 # Adiabatic index for air\n",
    "R = 8.3145 # Molar Gas constant, J/(mol*K)\n",
    "M = 0.0289645 # Molar mass of air, kg/mol\n",
    "\n",
    "# data = pd.DataFrame(columns=['t','h','u','Fd','c','mach'])\n",
    "data = pd.DataFrame(data={'t':[t],\n",
    "                          'h':[h],\n",
    "                          'u':[u],\n",
    "                          'Fd':[0],\n",
    "                          'c': [0],\n",
    "                          'mach': [0]})\n",
    "\n",
    "def atm_prop(height):\n",
    "    if height < 11000:\n",
    "        T = 15.04 - 0.00649*h\n",
    "        p = 101.29 * ((T + 273.1)/288.08)**(5.256)\n",
    "    elif height < 25000:\n",
    "        T = -56.46\n",
    "        p = 22.65*np.exp(1.73 - 0.000157*h)\n",
    "    else:\n",
    "        T = -131.21 + .00299*h\n",
    "        p = 2.488 * ((T + 273.1)/216.6)**(-11.388)\n",
    "        \n",
    "    rho = p/(.2869*(T + 273.1))\n",
    "    \n",
    "    return [rho, T + 273.1] # Returns T in Kelvin\n",
    "\n",
    "while h > 0:\n",
    "    # Get properties of air at point in freefall\n",
    "    [rho, T] = atm_prop(h)\n",
    "    \n",
    "    # Calculate drag force\n",
    "    Fd = 0.5*rho*u**2*C_D*A\n",
    "    \n",
    "    # Calculate total force on skydiver\n",
    "    F = m*g - Fd\n",
    "    \n",
    "    # Calculate new velocity\n",
    "    u = u + F/m*dt\n",
    "    \n",
    "    # Calculate new altitude\n",
    "    h = h - u*dt\n",
    "    \n",
    "    # Calculate speed of sound at this altitude\n",
    "    c = np.sqrt(gamma*R*T/M)\n",
    "    \n",
    "    # Calculate Mach Number\n",
    "    mach = u/c\n",
    "    \n",
    "    t = t + dt\n",
    "    \n",
    "    # Store values for plotting\n",
    "    data = data.append({'t':t,\n",
    "                 'h':h,\n",
    "                 'u':u,\n",
    "                 'Fd':Fd,\n",
    "                 'c': c,\n",
    "                 'mach': mach}, ignore_index=True, )\n",
    "    \n",
    "    \n",
    "    # Print values for logging\n",
    "#     print(f\"At time t={t:.1f}:\")\n",
    "#     print(f\"Drag Force: {Fd:.9f} N\")\n",
    "#     print(f\"Velocity: {u:.2f} m/s\")\n",
    "#     print(f\"Height: {h:.2f} m\")\n",
    "#     print(f\"Speed of Sound: {c:.2f} m/s\")\n",
    "#     print(f\"Mach Number: {mach:.2f}\")\n",
    "#     print(\"\\n\\n\")\n",
    "    \n",
    "    "
   ]
  },
  {
   "cell_type": "code",
   "execution_count": 2,
   "metadata": {},
   "outputs": [
    {
     "data": {
      "text/html": [
       "<div>\n",
       "<style scoped>\n",
       "    .dataframe tbody tr th:only-of-type {\n",
       "        vertical-align: middle;\n",
       "    }\n",
       "\n",
       "    .dataframe tbody tr th {\n",
       "        vertical-align: top;\n",
       "    }\n",
       "\n",
       "    .dataframe thead th {\n",
       "        text-align: right;\n",
       "    }\n",
       "</style>\n",
       "<table border=\"1\" class=\"dataframe\">\n",
       "  <thead>\n",
       "    <tr style=\"text-align: right;\">\n",
       "      <th></th>\n",
       "      <th>t</th>\n",
       "      <th>h</th>\n",
       "      <th>u</th>\n",
       "      <th>Fd</th>\n",
       "      <th>c</th>\n",
       "      <th>mach</th>\n",
       "    </tr>\n",
       "  </thead>\n",
       "  <tbody>\n",
       "    <tr>\n",
       "      <th>0</th>\n",
       "      <td>0.0</td>\n",
       "      <td>100000.0000</td>\n",
       "      <td>0.000</td>\n",
       "      <td>0.000000e+00</td>\n",
       "      <td>0.000000</td>\n",
       "      <td>0.000000</td>\n",
       "    </tr>\n",
       "    <tr>\n",
       "      <th>1</th>\n",
       "      <td>0.1</td>\n",
       "      <td>99999.9019</td>\n",
       "      <td>0.981</td>\n",
       "      <td>0.000000e+00</td>\n",
       "      <td>420.934181</td>\n",
       "      <td>0.002331</td>\n",
       "    </tr>\n",
       "    <tr>\n",
       "      <th>2</th>\n",
       "      <td>0.2</td>\n",
       "      <td>99999.7057</td>\n",
       "      <td>1.962</td>\n",
       "      <td>3.641810e-07</td>\n",
       "      <td>420.934041</td>\n",
       "      <td>0.004661</td>\n",
       "    </tr>\n",
       "    <tr>\n",
       "      <th>3</th>\n",
       "      <td>0.3</td>\n",
       "      <td>99999.4114</td>\n",
       "      <td>2.943</td>\n",
       "      <td>1.456748e-06</td>\n",
       "      <td>420.933761</td>\n",
       "      <td>0.006992</td>\n",
       "    </tr>\n",
       "    <tr>\n",
       "      <th>4</th>\n",
       "      <td>0.4</td>\n",
       "      <td>99999.0190</td>\n",
       "      <td>3.924</td>\n",
       "      <td>3.277764e-06</td>\n",
       "      <td>420.933341</td>\n",
       "      <td>0.009322</td>\n",
       "    </tr>\n",
       "  </tbody>\n",
       "</table>\n",
       "</div>"
      ],
      "text/plain": [
       "     t            h      u            Fd           c      mach\n",
       "0  0.0  100000.0000  0.000  0.000000e+00    0.000000  0.000000\n",
       "1  0.1   99999.9019  0.981  0.000000e+00  420.934181  0.002331\n",
       "2  0.2   99999.7057  1.962  3.641810e-07  420.934041  0.004661\n",
       "3  0.3   99999.4114  2.943  1.456748e-06  420.933761  0.006992\n",
       "4  0.4   99999.0190  3.924  3.277764e-06  420.933341  0.009322"
      ]
     },
     "execution_count": 2,
     "metadata": {},
     "output_type": "execute_result"
    }
   ],
   "source": [
    "data.head()"
   ]
  },
  {
   "cell_type": "code",
   "execution_count": 3,
   "metadata": {},
   "outputs": [
    {
     "data": {
      "text/plain": [
       "Text(0, 0.5, 'Altitude (m)')"
      ]
     },
     "execution_count": 3,
     "metadata": {},
     "output_type": "execute_result"
    },
    {
     "data": {
      "image/png": "[encoded data removed]",
      "text/plain": [
       "<Figure size 432x288 with 1 Axes>"
      ]
     },
     "metadata": {
      "needs_background": "light"
     },
     "output_type": "display_data"
    }
   ],
   "source": [
    "plt.plot(data['t'], data['h'])\n",
    "plt.xlabel('Time (s)')\n",
    "plt.ylabel('Altitude (m)')"
   ]
  },
  {
   "cell_type": "code",
   "execution_count": 4,
   "metadata": {},
   "outputs": [
    {
     "data": {
      "text/plain": [
       "(100000, 0)"
      ]
     },
     "execution_count": 4,
     "metadata": {},
     "output_type": "execute_result"
    },
    {
     "data": {
      "image/png": "[encoded data removed]",
      "text/plain": [
       "<Figure size 432x288 with 1 Axes>"
      ]
     },
     "metadata": {
      "needs_background": "light"
     },
     "output_type": "display_data"
    }
   ],
   "source": [
    "plt.plot(data['h'], data['mach'])\n",
    "plt.axvline(x=11000, linestyle = '--')\n",
    "plt.axvline(x=25000, linestyle = '--')\n",
    "plt.xlabel('Altitude (m)')\n",
    "plt.ylabel('Mach Number')\n",
    "plt.xlim(100000, 0)"
   ]
  },
  {
   "cell_type": "markdown",
   "metadata": {},
   "source": [
    "The two dashed lines mark the different sections of the atmosphere used in the NASA atmospheric model, with the left section on the plot in the upper stratosphere, then lower stratosphere, and then the troposphere. The skydiver appears to spend most of the time gaining in mach number (not necessarily speed as mach is also dependent upon speed of sound) right up until they hit the lower stratosphere and rapidly lose mach number going subsonic around the troposphere boundary where they begin to level off."
   ]
  },
  {
   "cell_type": "code",
   "execution_count": 5,
   "metadata": {},
   "outputs": [
    {
     "data": {
      "text/html": [
       "<div>\n",
       "<style scoped>\n",
       "    .dataframe tbody tr th:only-of-type {\n",
       "        vertical-align: middle;\n",
       "    }\n",
       "\n",
       "    .dataframe tbody tr th {\n",
       "        vertical-align: top;\n",
       "    }\n",
       "\n",
       "    .dataframe thead th {\n",
       "        text-align: right;\n",
       "    }\n",
       "</style>\n",
       "<table border=\"1\" class=\"dataframe\">\n",
       "  <thead>\n",
       "    <tr style=\"text-align: right;\">\n",
       "      <th></th>\n",
       "      <th>t</th>\n",
       "      <th>h</th>\n",
       "      <th>u</th>\n",
       "      <th>Fd</th>\n",
       "      <th>c</th>\n",
       "      <th>mach</th>\n",
       "    </tr>\n",
       "  </thead>\n",
       "  <tbody>\n",
       "    <tr>\n",
       "      <th>2134</th>\n",
       "      <td>213.4</td>\n",
       "      <td>37.993842</td>\n",
       "      <td>110.510734</td>\n",
       "      <td>940.408251</td>\n",
       "      <td>340.103291</td>\n",
       "      <td>0.324933</td>\n",
       "    </tr>\n",
       "    <tr>\n",
       "      <th>2135</th>\n",
       "      <td>213.5</td>\n",
       "      <td>26.949148</td>\n",
       "      <td>110.446936</td>\n",
       "      <td>940.318286</td>\n",
       "      <td>340.145663</td>\n",
       "      <td>0.324705</td>\n",
       "    </tr>\n",
       "    <tr>\n",
       "      <th>2136</th>\n",
       "      <td>213.6</td>\n",
       "      <td>15.910825</td>\n",
       "      <td>110.383237</td>\n",
       "      <td>940.228578</td>\n",
       "      <td>340.188006</td>\n",
       "      <td>0.324477</td>\n",
       "    </tr>\n",
       "    <tr>\n",
       "      <th>2137</th>\n",
       "      <td>213.7</td>\n",
       "      <td>4.878861</td>\n",
       "      <td>110.319638</td>\n",
       "      <td>940.139128</td>\n",
       "      <td>340.230318</td>\n",
       "      <td>0.324250</td>\n",
       "    </tr>\n",
       "    <tr>\n",
       "      <th>2138</th>\n",
       "      <td>213.8</td>\n",
       "      <td>-6.146753</td>\n",
       "      <td>110.256138</td>\n",
       "      <td>940.049933</td>\n",
       "      <td>340.272601</td>\n",
       "      <td>0.324023</td>\n",
       "    </tr>\n",
       "  </tbody>\n",
       "</table>\n",
       "</div>"
      ],
      "text/plain": [
       "          t          h           u          Fd           c      mach\n",
       "2134  213.4  37.993842  110.510734  940.408251  340.103291  0.324933\n",
       "2135  213.5  26.949148  110.446936  940.318286  340.145663  0.324705\n",
       "2136  213.6  15.910825  110.383237  940.228578  340.188006  0.324477\n",
       "2137  213.7   4.878861  110.319638  940.139128  340.230318  0.324250\n",
       "2138  213.8  -6.146753  110.256138  940.049933  340.272601  0.324023"
      ]
     },
     "execution_count": 5,
     "metadata": {},
     "output_type": "execute_result"
    }
   ],
   "source": [
    "data.tail()"
   ]
  },
  {
   "cell_type": "markdown",
   "metadata": {},
   "source": [
    "At the end of the skydivers fall, they are going about 110 m/s, which is very fast for skydiving but within ranges of the fastest streamlined skydivers as described in [this article](https://en.wikipedia.org/wiki/Speed_skydiving). How did the speed and speed of sound change as they descended?"
   ]
  },
  {
   "cell_type": "code",
   "execution_count": 6,
   "metadata": {},
   "outputs": [
    {
     "data": {
      "text/plain": [
       "<matplotlib.legend.Legend at 0x7f08296a3b90>"
      ]
     },
     "execution_count": 6,
     "metadata": {},
     "output_type": "execute_result"
    },
    {
     "data": {
      "image/png": "[encoded data removed]",
      "text/plain": [
       "<Figure size 432x288 with 1 Axes>"
      ]
     },
     "metadata": {
      "needs_background": "light"
     },
     "output_type": "display_data"
    }
   ],
   "source": [
    "plt.plot(data['h'], data['u'], label='Speed of Skydiver')\n",
    "plt.plot(data['h'], data['c'], label='Speed of Sound')\n",
    "plt.axvline(x=11000, linestyle = '--')\n",
    "plt.axvline(x=25000, linestyle = '--')\n",
    "plt.xlabel('Altitude (m)')\n",
    "plt.ylabel('Speed (m/s)')\n",
    "plt.xlim(100000, 0)\n",
    "plt.legend()"
   ]
  },
  {
   "cell_type": "markdown",
   "metadata": {},
   "source": [
    "The speed of sound appears to change linearly in the upper stratosphere and troposphere. This is due to the atmospheric model used as the temperature changes linearly in both of these regemes, so the actual speed of sound is varying by the half power in these regions.\n",
    "\n",
    "While these are interesting results, there are some things that could point to bad assumptions:\n",
    "1. The fall only took a little over 3.5 minutes, which is very quick especially considering the distance fallen. Felix Baumgardner currently holds the record for the fastest free fall, falling from a distance of 38.6 km and reaching Mach 1.24. Granted, our skydiver is going much faster than that but I'm not sure if this time is realistic. The speed brings up the next point\n",
    "2. Reaching Mach 3.5 is insane for a human in free fall. This was acheived due to the low density in the upper stratosphere, which Felix was on the lower portion of in his fall. However, this is likely an over-estimate as we greatly simplified and reduced the drag on the skydiver, so reaching this Mach number is likely impossible.\n",
    "\n",
    "I hope this guide was helpful in understanding extreme free fall and how complicated things can get to calculate when going supersonic. If you would like to investigate this topic more, I would suggest looking into material that covers Gas Dynamics or Compressible Flows."
   ]
  }
 ],
 "metadata": {
  "kernelspec": {
   "display_name": "Python 3",
   "language": "python",
   "name": "python3"
  },
  "language_info": {
   "codemirror_mode": {
    "name": "ipython",
    "version": 3
   },
   "file_extension": ".py",
   "mimetype": "text/x-python",
   "name": "python",
   "nbconvert_exporter": "python",
   "pygments_lexer": "ipython3",
   "version": "3.7.4"
  }
 },
 "nbformat": 4,
 "nbformat_minor": 2
}
